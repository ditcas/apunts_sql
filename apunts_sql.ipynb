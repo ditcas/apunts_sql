{
 "cells": [
  {
   "cell_type": "markdown",
   "metadata": {},
   "source": [
    "# SQL\n",
    "Llenguatge de consulta en bases de dades relacionals, i inserció, modificació i eliminació de dades.\n",
    "\n",
    "> El llenguatge SQL usat en el codi següent és SQLite"
   ]
  },
  {
   "cell_type": "markdown",
   "metadata": {},
   "source": [
    "## Consultes"
   ]
  },
  {
   "cell_type": "markdown",
   "metadata": {},
   "source": [
    "- Tots els registres d'una taula"
   ]
  },
  {
   "cell_type": "code",
   "execution_count": null,
   "metadata": {
    "vscode": {
     "languageId": "sql"
    }
   },
   "outputs": [],
   "source": [
    "SELECT * FROM <nom_taula>"
   ]
  },
  {
   "cell_type": "markdown",
   "metadata": {},
   "source": [
    "- Només alguns camps"
   ]
  },
  {
   "cell_type": "code",
   "execution_count": null,
   "metadata": {
    "vscode": {
     "languageId": "sql"
    }
   },
   "outputs": [],
   "source": [
    "SELECT <camp>, <camp2> FROM <nom_taula>"
   ]
  },
  {
   "cell_type": "markdown",
   "metadata": {},
   "source": [
    "- Registres que compleixin certes condicions"
   ]
  },
  {
   "cell_type": "code",
   "execution_count": null,
   "metadata": {
    "vscode": {
     "languageId": "sql"
    }
   },
   "outputs": [],
   "source": [
    "SELECT * -- O els noms dels camps\n",
    "FROM <nom_taula>\n",
    "WHERE <condition>\n",
    "\n",
    "-- Aquestes condicions poden ser, per exemple:\n",
    "\n",
    "WHERE id = 1\n",
    "WHERE id IN (1,2) -- Si volem més d'un valor usem IN\n",
    "WHERE name IN (\"Judit\", \"Israel\")\n",
    "WHERE name LIKE \"Judit\" -- Cometes dobles o simples ' '. Per strings usem LIKE enlloc de =\n",
    "WHERE name NOT LIKE \"Israel\"\n",
    "WHERE name LIKE \"%di%\" -- Que continguin di\n",
    "WHERE name LIKE \"Judit%\" -- Que continguin Judit + algo (Judith...)\n",
    "WHERE name LIKE \"Judit_\" -- Que continguin Judit + un caràcter\n",
    "WHERE version >= 8\n",
    "WHERE active <> true  -- <> significa diferent\n",
    "WHERE datatime IS NULL\n",
    "WHERE datatime IS NOT NULL"
   ]
  },
  {
   "cell_type": "markdown",
   "metadata": {},
   "source": [
    "- Selecció resultant ordenada"
   ]
  },
  {
   "cell_type": "code",
   "execution_count": null,
   "metadata": {
    "vscode": {
     "languageId": "sql"
    }
   },
   "outputs": [],
   "source": [
    "ORDER BY <camp> ASC/DESC -- Ordre alfabètic per strings. Els accents van al final."
   ]
  },
  {
   "cell_type": "markdown",
   "metadata": {},
   "source": [
    "- Comptar i agrupar"
   ]
  },
  {
   "cell_type": "code",
   "execution_count": null,
   "metadata": {
    "vscode": {
     "languageId": "sql"
    }
   },
   "outputs": [],
   "source": [
    "COUNT() -- Compta els registres que retorna la consulta\n",
    "GROUP BY () -- Retorna el comptador agrupant els registres que tenen el mateix valor en aquell camp.\n",
    "HAVING COUNT() -- Per posar una condició de valor resultant del count que vols que es mostrin. Usant <, >, <=, >=, =..."
   ]
  },
  {
   "cell_type": "code",
   "execution_count": null,
   "metadata": {
    "vscode": {
     "languageId": "sql"
    }
   },
   "outputs": [],
   "source": [
    "SELECT language_id, COUNT(language_id) AS Comptador -- AS Canvia com es mostra el nom del camp\n",
    "FROM topics\n",
    "GROUP BY language_id\n",
    "HAVING COUNT(language_id) > 3"
   ]
  },
  {
   "cell_type": "markdown",
   "metadata": {},
   "source": [
    "language_id     Comptador\n",
    "1               5\n",
    "2               5\n",
    "\n",
    "Hi ha 5 temes en Castellà (language_id 1) i 5 temes en Català (language_id 2). Com que en anglès hi ha 3 temes, no es mostra."
   ]
  },
  {
   "cell_type": "markdown",
   "metadata": {},
   "source": [
    "- Límit de registres mostrats"
   ]
  },
  {
   "cell_type": "code",
   "execution_count": null,
   "metadata": {
    "vscode": {
     "languageId": "sql"
    }
   },
   "outputs": [],
   "source": [
    "LIMIT nº -- Mostra només aquesta quantitat de registres\n",
    "\n",
    "LIMIT nº1, nº2 -- A partir del registre nº1 mostra la quantitat de registres que marca nº2."
   ]
  },
  {
   "cell_type": "markdown",
   "metadata": {},
   "source": [
    "## Consultes enllaçades"
   ]
  },
  {
   "cell_type": "code",
   "execution_count": null,
   "metadata": {
    "vscode": {
     "languageId": "sql"
    }
   },
   "outputs": [],
   "source": [
    "SELECT name\n",
    "FROM branches\n",
    "WHERE id IN (\n",
    "    SELECT branch_id\n",
    "    FROM topics\n",
    "    WHERE id IN(\n",
    "        SELECT topic_id\n",
    "        FROM exercises\n",
    "    )\n",
    ")\n",
    "\n",
    "-- Retorna els noms de les branques que tenen temes amb exercicis."
   ]
  },
  {
   "cell_type": "code",
   "execution_count": null,
   "metadata": {
    "vscode": {
     "languageId": "sql"
    }
   },
   "outputs": [],
   "source": [
    "SELECT name\n",
    "FROM languages\n",
    "WHERE \n",
    "    ( id IN (\n",
    "        SELECT language_id\n",
    "        FROM topics\n",
    "        GROUP BY language_id\n",
    "        HAVING COUNT(language_id) > 3\n",
    "    ))\n",
    "    OR\n",
    "    ( id IN (\n",
    "        SELECT language_id\n",
    "        FROM exercises\n",
    "    )\n",
    "    )\n",
    "\n",
    "-- Retorna els idiomes que tenen almenys 4 topics o bé qye tenen almenys un exercici."
   ]
  },
  {
   "cell_type": "markdown",
   "metadata": {},
   "source": [
    "## Consultes relacionades - JOIN"
   ]
  },
  {
   "cell_type": "code",
   "execution_count": null,
   "metadata": {
    "vscode": {
     "languageId": "sql"
    }
   },
   "outputs": [],
   "source": [
    "-- Mostra els noms dels topics i la branca a la que pertanyen.\n",
    "\n",
    "SELECT topics.name AS topic, branches.name AS branch\n",
    "FROM topics\n",
    "JOIN branches ON topics.branch_id = branches.id\n",
    "-- WHERE topics.language_id = 3     només dels topics en anglès.\n",
    "\n",
    "-- Si de la taula principal, topics, volem mostrar tots els registres, tant si estan relacionats amb branches com si no, fem\n",
    "\n",
    "LEFT JOIN branches ON topics.branch_id = branches.id\n",
    "\n",
    "-- Aleshores si hi hagués algun tema que no tingués branca associada, o no complís la condició WHERE, sortiria igualment, amb branch NULL.\n",
    "\n",
    "-- Es pot afegir més d'un JOIN. Per exemple, tots els topics amb la seva branca i el seu idioma.\n",
    "\n",
    "SELECT topics.name, branches.name, languages.name\n",
    "FROM topics\n",
    "JOIN branches ON topics.branch_id = branches.id \n",
    "JOIN languages ON topics.language_id = languages.id"
   ]
  },
  {
   "cell_type": "markdown",
   "metadata": {},
   "source": [
    "Segons volem unir/relacionar les taules tenim diverses opcions de JOIN:\n",
    "\n",
    "- JOIN o INNER JOIN: Considera només la intersecció dels registres entre les dues taules.\n",
    "\n",
    "- FULL OUTER JOIN: Considera la unió de les dues taules.\n",
    "\n",
    "- LEFT/RIGHT OUTER JOIN: Considera tots els registres de la taula esquerra/dreta i els de la intersecció amb l'altra taula.\n",
    "\n",
    "- LEFT OUTER JOIN amb WHERE TableB.id is null: Considera els registres de la TableA que no estan en B.\n",
    "\n",
    "- FULL OUTER JOIN amb WHERE TableA.id is null OR TableB.id is null: Considera la unió de les dues taules menys la intersecció d'ambdues."
   ]
  },
  {
   "cell_type": "markdown",
   "metadata": {},
   "source": [
    "## Insertar dades en una taula"
   ]
  },
  {
   "cell_type": "code",
   "execution_count": null,
   "metadata": {
    "vscode": {
     "languageId": "sql"
    }
   },
   "outputs": [],
   "source": [
    "INSERT INTO <nom_taula (camp1, camp2...)>\n",
    "VALUES (valor1, valor2...), (valor1_, valor 2_...) ... -- primer registre, segon registre...\n",
    "\n",
    "-- Es podria posar un SELECT i serviria per volcar una taula en una altra.\n",
    "-- Es podria posar un JOIN i crear un mix de dues taules en una."
   ]
  },
  {
   "cell_type": "markdown",
   "metadata": {},
   "source": [
    "## Modificar dades d'una taula"
   ]
  },
  {
   "cell_type": "code",
   "execution_count": null,
   "metadata": {
    "vscode": {
     "languageId": "sql"
    }
   },
   "outputs": [],
   "source": [
    "UPDATE <nom_taula>\n",
    "SET camp1 = valor1 , camp2 = valor2\n",
    "WHERE id = nº -- Es necessita algun camp que identifiqui el registre a modificar. Si no es poses el WHERE canviaria els camps en tots els registres."
   ]
  },
  {
   "cell_type": "markdown",
   "metadata": {},
   "source": [
    "## Eliminar registres d'una taula"
   ]
  },
  {
   "cell_type": "code",
   "execution_count": null,
   "metadata": {
    "vscode": {
     "languageId": "sql"
    }
   },
   "outputs": [],
   "source": [
    "DELETE FROM <nom_taula>\n",
    "WHERE id = nº -- Cal identificar el registre sencer a eliminar."
   ]
  },
  {
   "cell_type": "markdown",
   "metadata": {},
   "source": [
    "## Les bases de dades no tenen un \"retroceder\", cal vigilar molt amb els canvis que s'hi fan, o treballar abans amb una còpia, o una selecció de la base de dades."
   ]
  }
 ],
 "metadata": {
  "kernelspec": {
   "display_name": "Python 3.8.9 64-bit",
   "language": "python",
   "name": "python3"
  },
  "language_info": {
   "codemirror_mode": {
    "name": "ipython",
    "version": 3
   },
   "file_extension": ".py",
   "mimetype": "text/x-python",
   "name": "python",
   "nbconvert_exporter": "python",
   "pygments_lexer": "ipython3",
   "version": "3.8.9"
  },
  "orig_nbformat": 4,
  "vscode": {
   "interpreter": {
    "hash": "31f2aee4e71d21fbe5cf8b01ff0e069b9275f58929596ceb00d14d90e3e16cd6"
   }
  }
 },
 "nbformat": 4,
 "nbformat_minor": 2
}
